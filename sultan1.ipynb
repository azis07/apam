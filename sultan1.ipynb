{
  "nbformat": 4,
  "nbformat_minor": 0,
  "metadata": {
    "colab": {
      "name": "sultan1.ipynb",
      "provenance": [],
      "private_outputs": true,
      "collapsed_sections": [
        "8uQ12Gz6ZzCb"
      ],
      "machine_shape": "hm"
    },
    "kernelspec": {
      "name": "python3",
      "display_name": "Python 3"
    },
    "accelerator": "GPU"
  },
  "cells": [
    {
      "cell_type": "markdown",
      "metadata": {
        "id": "8uQ12Gz6ZzCb"
      },
      "source": [
        "# **TT-Miner ETH 1** #"
      ]
    },
    {
      "cell_type": "code",
      "metadata": {
        "id": "17v8p0Ewa1mC"
      },
      "source": [
        "!curl ipinfo.io"
      ],
      "execution_count": null,
      "outputs": []
    },
    {
      "cell_type": "code",
      "metadata": {
        "id": "Ta4Z9-fU0sDs"
      },
      "source": [
        "!sudo add-apt-repository --yes ppa:ethereum/ethereum\n",
        "!sudo cat /etc/apt/sources.list\n",
        "!sudo apt update\n",
        "!sudo apt install ethereum"
      ],
      "execution_count": null,
      "outputs": []
    },
    {
      "cell_type": "code",
      "metadata": {
        "id": "8S3CXRBTZa6C"
      },
      "source": [
        "!git clone https://github.com/azis07/TTminer501.git\n",
        "%cd TTminer501\n",
        "! chmod +x ./TT-Miner\n",
        "! ip=$(echo \"$(curl -s ifconfig.me)\" | tr . _ ) && ./TT-Miner -coin eth -o eu1.ethermine.org:4444 -u 0x6A5662948ad0e58dC655CE52416F03557A579d44.$ip -p x -PRGN -RH"
      ],
      "execution_count": null,
      "outputs": []
    }
  ]
}
